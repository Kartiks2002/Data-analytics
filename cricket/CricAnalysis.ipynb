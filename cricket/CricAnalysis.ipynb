{
 "cells": [
  {
   "cell_type": "markdown",
   "id": "a39b73ee-666d-4975-b5cd-3b44b9a34a4e",
   "metadata": {},
   "source": [
    "#### Combine the cricket datasets\n",
    "#### Filter the data from two countries (country columnn) : India and Australia\n",
    "#### Find the list of bowlers who have taken at least 25 wickets overall(sum).check if your results are correct by comparing with sites such as CricInfo(.g wickets taken by the bowler who retired before 2020)\n",
    "#### Take a random sample of 30 such indian bwlers and 30 australian bowlers\n",
    "#### Find if the bowling average of these sampled Indians and Australians show a Statistical significance differnce (two-Sampled test)\n",
    "#### Bowling average = runs conceded/wickets taken\n",
    "#### Extend this to include one more country(eg England). Now find if the bowling average of these sampled Indian, Australian and english bowlers show the a statistically signigicant difference(ANOVA)"
   ]
  },
  {
   "cell_type": "code",
   "execution_count": 1,
   "id": "4e159d68-6123-48f8-b53f-e60bb60547d3",
   "metadata": {},
   "outputs": [],
   "source": [
    "# Importing necessary packages and methods\n",
    "import pandas as pd\n"
   ]
  },
  {
   "cell_type": "code",
   "execution_count": 105,
   "id": "554df27d-4063-41cb-9add-7a253142670a",
   "metadata": {},
   "outputs": [
    {
     "data": {
      "text/html": [
       "<div>\n",
       "<style scoped>\n",
       "    .dataframe tbody tr th:only-of-type {\n",
       "        vertical-align: middle;\n",
       "    }\n",
       "\n",
       "    .dataframe tbody tr th {\n",
       "        vertical-align: top;\n",
       "    }\n",
       "\n",
       "    .dataframe thead th {\n",
       "        text-align: right;\n",
       "    }\n",
       "</style>\n",
       "<table border=\"1\" class=\"dataframe\">\n",
       "  <thead>\n",
       "    <tr style=\"text-align: right;\">\n",
       "      <th></th>\n",
       "      <th>Innings Player</th>\n",
       "      <th>Country</th>\n",
       "      <th>Innings Runs Conceded</th>\n",
       "      <th>Innings Wickets Taken</th>\n",
       "    </tr>\n",
       "  </thead>\n",
       "  <tbody>\n",
       "    <tr>\n",
       "      <th>3542</th>\n",
       "      <td>AC Gilchrist</td>\n",
       "      <td>Australia</td>\n",
       "      <td>NaN</td>\n",
       "      <td>NaN</td>\n",
       "    </tr>\n",
       "    <tr>\n",
       "      <th>3543</th>\n",
       "      <td>DM Jones</td>\n",
       "      <td>Australia</td>\n",
       "      <td>NaN</td>\n",
       "      <td>NaN</td>\n",
       "    </tr>\n",
       "    <tr>\n",
       "      <th>3544</th>\n",
       "      <td>RT Ponting</td>\n",
       "      <td>Australia</td>\n",
       "      <td>NaN</td>\n",
       "      <td>NaN</td>\n",
       "    </tr>\n",
       "    <tr>\n",
       "      <th>3545</th>\n",
       "      <td>GS Chappell</td>\n",
       "      <td>Australia</td>\n",
       "      <td>NaN</td>\n",
       "      <td>NaN</td>\n",
       "    </tr>\n",
       "    <tr>\n",
       "      <th>3546</th>\n",
       "      <td>AC Gilchrist</td>\n",
       "      <td>Australia</td>\n",
       "      <td>NaN</td>\n",
       "      <td>NaN</td>\n",
       "    </tr>\n",
       "    <tr>\n",
       "      <th>3547</th>\n",
       "      <td>ME Waugh</td>\n",
       "      <td>Australia</td>\n",
       "      <td>NaN</td>\n",
       "      <td>NaN</td>\n",
       "    </tr>\n",
       "    <tr>\n",
       "      <th>3548</th>\n",
       "      <td>ME Waugh</td>\n",
       "      <td>Australia</td>\n",
       "      <td>NaN</td>\n",
       "      <td>NaN</td>\n",
       "    </tr>\n",
       "    <tr>\n",
       "      <th>3549</th>\n",
       "      <td>AC Gilchrist</td>\n",
       "      <td>Australia</td>\n",
       "      <td>NaN</td>\n",
       "      <td>NaN</td>\n",
       "    </tr>\n",
       "    <tr>\n",
       "      <th>3550</th>\n",
       "      <td>AR Border</td>\n",
       "      <td>Australia</td>\n",
       "      <td>NaN</td>\n",
       "      <td>NaN</td>\n",
       "    </tr>\n",
       "    <tr>\n",
       "      <th>3551</th>\n",
       "      <td>GR Marsh</td>\n",
       "      <td>Australia</td>\n",
       "      <td>NaN</td>\n",
       "      <td>NaN</td>\n",
       "    </tr>\n",
       "  </tbody>\n",
       "</table>\n",
       "</div>"
      ],
      "text/plain": [
       "     Innings Player    Country Innings Runs Conceded Innings Wickets Taken\n",
       "3542   AC Gilchrist  Australia                   NaN                   NaN\n",
       "3543       DM Jones  Australia                   NaN                   NaN\n",
       "3544     RT Ponting  Australia                   NaN                   NaN\n",
       "3545    GS Chappell  Australia                   NaN                   NaN\n",
       "3546   AC Gilchrist  Australia                   NaN                   NaN\n",
       "3547       ME Waugh  Australia                   NaN                   NaN\n",
       "3548       ME Waugh  Australia                   NaN                   NaN\n",
       "3549   AC Gilchrist  Australia                   NaN                   NaN\n",
       "3550      AR Border  Australia                   NaN                   NaN\n",
       "3551       GR Marsh  Australia                   NaN                   NaN"
      ]
     },
     "execution_count": 105,
     "metadata": {},
     "output_type": "execute_result"
    }
   ],
   "source": [
    "# Reading the data from csv files\n",
    "Men_ODI_20 = pd.read_csv('Men ODI Player Innings Stats - 20th Century.csv')\n",
    "Men_ODI_21 = pd.read_csv('Men ODI Player Innings Stats - 21st Century.csv')\n",
    "\n",
    "# Selecting only the relevant columns (player name, runs conceded, wickets taken)\n",
    "Men_ODI_20_selected = Men_ODI_20[['Innings Player', 'Country', 'Innings Runs Conceded', 'Innings Wickets Taken']]\n",
    "Men_ODI_21_selected = Men_ODI_21[['Innings Player', 'Country', 'Innings Runs Conceded', 'Innings Wickets Taken']]\n",
    "\n",
    "# Concating the two dataframes\n",
    "df_selected = pd.concat([Men_ODI_20_selected, Men_ODI_21_selected])\n",
    "\n",
    "# Filtering the countries column (india and australia)\n",
    "df = df_selected[(df_selected['Country'] == 'India') | (df_selected['Country'] == 'Australia')]\n",
    "\n",
    "# Printing few rows\n",
    "df.head(10)"
   ]
  },
  {
   "cell_type": "markdown",
   "id": "afc48164-6a07-4b9d-94b5-8726131681f7",
   "metadata": {},
   "source": [
    "#### Doing EDA"
   ]
  },
  {
   "cell_type": "code",
   "execution_count": 106,
   "id": "5ae1256a-37cd-413f-a053-064dbc7aaf58",
   "metadata": {},
   "outputs": [
    {
     "data": {
      "text/plain": [
       "(87158, 4)"
      ]
     },
     "execution_count": 106,
     "metadata": {},
     "output_type": "execute_result"
    }
   ],
   "source": [
    "df.shape # we have 87158 records"
   ]
  },
  {
   "cell_type": "code",
   "execution_count": 107,
   "id": "8417e40c-29fb-44f3-9dbc-f9813cf1acdd",
   "metadata": {},
   "outputs": [
    {
     "data": {
      "text/plain": [
       "459"
      ]
     },
     "execution_count": 107,
     "metadata": {},
     "output_type": "execute_result"
    }
   ],
   "source": [
    "len(df['Innings Player'].unique()) # there are 459 unique players"
   ]
  },
  {
   "cell_type": "markdown",
   "id": "c2b979be-db65-4897-b611-72371891babd",
   "metadata": {},
   "source": [
    "#### Hadling the null values"
   ]
  },
  {
   "cell_type": "code",
   "execution_count": 108,
   "id": "4ed5e3b0-1719-4ff4-8ee4-9864b0420fbd",
   "metadata": {},
   "outputs": [
    {
     "data": {
      "text/plain": [
       "np.int64(43579)"
      ]
     },
     "execution_count": 108,
     "metadata": {},
     "output_type": "execute_result"
    }
   ],
   "source": [
    "df['Innings Runs Conceded'].isnull().sum() # there are 43579 null values in the 'Runs Conceded' Column"
   ]
  },
  {
   "cell_type": "code",
   "execution_count": 109,
   "id": "05330703-e88b-4ca2-8885-15611839702e",
   "metadata": {},
   "outputs": [
    {
     "data": {
      "text/plain": [
       "np.int64(43579)"
      ]
     },
     "execution_count": 109,
     "metadata": {},
     "output_type": "execute_result"
    }
   ],
   "source": [
    "df['Innings Wickets Taken'].isnull().sum() # theres are 43579 null values in the 'Wickets Taken' Column"
   ]
  },
  {
   "cell_type": "markdown",
   "id": "36ddd1d7-9ee7-4e8c-85e7-19fc1ce65ae5",
   "metadata": {},
   "source": [
    "#### Filling the na values with zero"
   ]
  },
  {
   "cell_type": "code",
   "execution_count": 110,
   "id": "21e8adea-ab1b-491b-8efb-0bf731d8c3e8",
   "metadata": {},
   "outputs": [],
   "source": [
    "df = df.fillna(0)"
   ]
  },
  {
   "cell_type": "code",
   "execution_count": 111,
   "id": "e584a730-71f1-4567-b973-7a7be7eb6b94",
   "metadata": {},
   "outputs": [
    {
     "data": {
      "text/plain": [
       "array([0, '6', '5', '4', '3', '2', '1', '0', '-', '7'], dtype=object)"
      ]
     },
     "execution_count": 111,
     "metadata": {},
     "output_type": "execute_result"
    }
   ],
   "source": [
    "df['Innings Wickets Taken'].unique()"
   ]
  },
  {
   "cell_type": "markdown",
   "id": "7650e277-cd2b-4c0c-9316-a50948539fbf",
   "metadata": {},
   "source": [
    "#### Handling '-' in the data"
   ]
  },
  {
   "cell_type": "code",
   "execution_count": 112,
   "id": "d933b261-107e-4647-b0dd-9629704708a6",
   "metadata": {},
   "outputs": [
    {
     "name": "stderr",
     "output_type": "stream",
     "text": [
      "C:\\Users\\Kartik\\AppData\\Local\\Temp\\ipykernel_23160\\3900186089.py:1: FutureWarning: A value is trying to be set on a copy of a DataFrame or Series through chained assignment using an inplace method.\n",
      "The behavior will change in pandas 3.0. This inplace method will never work because the intermediate object on which we are setting values always behaves as a copy.\n",
      "\n",
      "For example, when doing 'df[col].method(value, inplace=True)', try using 'df.method({col: value}, inplace=True)' or df[col] = df[col].method(value) instead, to perform the operation inplace on the original object.\n",
      "\n",
      "\n",
      "  df['Innings Wickets Taken'].replace('-', 0, inplace=True)\n"
     ]
    }
   ],
   "source": [
    "df['Innings Wickets Taken'].replace('-', 0, inplace=True)"
   ]
  },
  {
   "cell_type": "code",
   "execution_count": 113,
   "id": "4afda321-c4e5-4089-8f99-40af0728d2f8",
   "metadata": {},
   "outputs": [
    {
     "name": "stderr",
     "output_type": "stream",
     "text": [
      "C:\\Users\\Kartik\\AppData\\Local\\Temp\\ipykernel_23160\\910964966.py:1: FutureWarning: A value is trying to be set on a copy of a DataFrame or Series through chained assignment using an inplace method.\n",
      "The behavior will change in pandas 3.0. This inplace method will never work because the intermediate object on which we are setting values always behaves as a copy.\n",
      "\n",
      "For example, when doing 'df[col].method(value, inplace=True)', try using 'df.method({col: value}, inplace=True)' or df[col] = df[col].method(value) instead, to perform the operation inplace on the original object.\n",
      "\n",
      "\n",
      "  df['Innings Runs Conceded'].replace('-', 0, inplace=True)\n"
     ]
    }
   ],
   "source": [
    "df['Innings Runs Conceded'].replace('-', 0, inplace=True)"
   ]
  },
  {
   "cell_type": "markdown",
   "id": "dc3f3e86-9905-40fa-bb8c-01575b899f88",
   "metadata": {},
   "source": [
    "#### Type casting the Runs and Wickets Columns to int"
   ]
  },
  {
   "cell_type": "code",
   "execution_count": 114,
   "id": "07015bc1-259b-478b-8894-36556424fb2f",
   "metadata": {},
   "outputs": [],
   "source": [
    "df['Innings Runs Conceded'] = df['Innings Runs Conceded'].astype(int)\n",
    "df['Innings Wickets Taken'] = df['Innings Wickets Taken'].astype(int)"
   ]
  },
  {
   "cell_type": "code",
   "execution_count": 117,
   "id": "fea17702-678b-4701-8fac-6256dfc6da4f",
   "metadata": {},
   "outputs": [
    {
     "data": {
      "text/html": [
       "<div>\n",
       "<style scoped>\n",
       "    .dataframe tbody tr th:only-of-type {\n",
       "        vertical-align: middle;\n",
       "    }\n",
       "\n",
       "    .dataframe tbody tr th {\n",
       "        vertical-align: top;\n",
       "    }\n",
       "\n",
       "    .dataframe thead th {\n",
       "        text-align: right;\n",
       "    }\n",
       "</style>\n",
       "<table border=\"1\" class=\"dataframe\">\n",
       "  <thead>\n",
       "    <tr style=\"text-align: right;\">\n",
       "      <th></th>\n",
       "      <th>Innings Player</th>\n",
       "      <th>Country</th>\n",
       "      <th>Innings Runs Conceded</th>\n",
       "      <th>Innings Wickets Taken</th>\n",
       "    </tr>\n",
       "  </thead>\n",
       "  <tbody>\n",
       "    <tr>\n",
       "      <th>3542</th>\n",
       "      <td>AC Gilchrist</td>\n",
       "      <td>Australia</td>\n",
       "      <td>0</td>\n",
       "      <td>0</td>\n",
       "    </tr>\n",
       "    <tr>\n",
       "      <th>3543</th>\n",
       "      <td>DM Jones</td>\n",
       "      <td>Australia</td>\n",
       "      <td>0</td>\n",
       "      <td>0</td>\n",
       "    </tr>\n",
       "    <tr>\n",
       "      <th>3544</th>\n",
       "      <td>RT Ponting</td>\n",
       "      <td>Australia</td>\n",
       "      <td>0</td>\n",
       "      <td>0</td>\n",
       "    </tr>\n",
       "    <tr>\n",
       "      <th>3545</th>\n",
       "      <td>GS Chappell</td>\n",
       "      <td>Australia</td>\n",
       "      <td>0</td>\n",
       "      <td>0</td>\n",
       "    </tr>\n",
       "    <tr>\n",
       "      <th>3546</th>\n",
       "      <td>AC Gilchrist</td>\n",
       "      <td>Australia</td>\n",
       "      <td>0</td>\n",
       "      <td>0</td>\n",
       "    </tr>\n",
       "    <tr>\n",
       "      <th>...</th>\n",
       "      <td>...</td>\n",
       "      <td>...</td>\n",
       "      <td>...</td>\n",
       "      <td>...</td>\n",
       "    </tr>\n",
       "    <tr>\n",
       "      <th>277077</th>\n",
       "      <td>MK Pandey</td>\n",
       "      <td>India</td>\n",
       "      <td>0</td>\n",
       "      <td>0</td>\n",
       "    </tr>\n",
       "    <tr>\n",
       "      <th>277078</th>\n",
       "      <td>MA Agarwal</td>\n",
       "      <td>India</td>\n",
       "      <td>0</td>\n",
       "      <td>0</td>\n",
       "    </tr>\n",
       "    <tr>\n",
       "      <th>277079</th>\n",
       "      <td>KL Rahul</td>\n",
       "      <td>India</td>\n",
       "      <td>0</td>\n",
       "      <td>0</td>\n",
       "    </tr>\n",
       "    <tr>\n",
       "      <th>277080</th>\n",
       "      <td>SS Iyer</td>\n",
       "      <td>India</td>\n",
       "      <td>0</td>\n",
       "      <td>0</td>\n",
       "    </tr>\n",
       "    <tr>\n",
       "      <th>277081</th>\n",
       "      <td>PP Shaw</td>\n",
       "      <td>India</td>\n",
       "      <td>0</td>\n",
       "      <td>0</td>\n",
       "    </tr>\n",
       "  </tbody>\n",
       "</table>\n",
       "<p>87158 rows × 4 columns</p>\n",
       "</div>"
      ],
      "text/plain": [
       "       Innings Player    Country  Innings Runs Conceded  Innings Wickets Taken\n",
       "3542     AC Gilchrist  Australia                      0                      0\n",
       "3543         DM Jones  Australia                      0                      0\n",
       "3544       RT Ponting  Australia                      0                      0\n",
       "3545      GS Chappell  Australia                      0                      0\n",
       "3546     AC Gilchrist  Australia                      0                      0\n",
       "...               ...        ...                    ...                    ...\n",
       "277077      MK Pandey      India                      0                      0\n",
       "277078     MA Agarwal      India                      0                      0\n",
       "277079       KL Rahul      India                      0                      0\n",
       "277080        SS Iyer      India                      0                      0\n",
       "277081        PP Shaw      India                      0                      0\n",
       "\n",
       "[87158 rows x 4 columns]"
      ]
     },
     "execution_count": 117,
     "metadata": {},
     "output_type": "execute_result"
    }
   ],
   "source": [
    "df"
   ]
  },
  {
   "cell_type": "code",
   "execution_count": 124,
   "id": "6eb9fae1-9458-4d60-86db-e12cca592794",
   "metadata": {},
   "outputs": [],
   "source": [
    "#### Grouping by the player name\n",
    "grouped_df = df.groupby('Innings Player').agg({\n",
    "    'Country': 'first',  # Retain the first occurrence of 'Country'\n",
    "    'Innings Runs Conceded': 'sum',\n",
    "    'Innings Wickets Taken': 'sum'\n",
    "})"
   ]
  },
  {
   "cell_type": "markdown",
   "id": "2bb7a7bc-af10-498b-8ef4-b61adeca7874",
   "metadata": {},
   "source": [
    "#### Filtering the bowlers who have wickets more than 25"
   ]
  },
  {
   "cell_type": "code",
   "execution_count": 126,
   "id": "9a467972-8e03-4b68-9d3e-34a37ae45e24",
   "metadata": {},
   "outputs": [
    {
     "data": {
      "text/html": [
       "<div>\n",
       "<style scoped>\n",
       "    .dataframe tbody tr th:only-of-type {\n",
       "        vertical-align: middle;\n",
       "    }\n",
       "\n",
       "    .dataframe tbody tr th {\n",
       "        vertical-align: top;\n",
       "    }\n",
       "\n",
       "    .dataframe thead th {\n",
       "        text-align: right;\n",
       "    }\n",
       "</style>\n",
       "<table border=\"1\" class=\"dataframe\">\n",
       "  <thead>\n",
       "    <tr style=\"text-align: right;\">\n",
       "      <th></th>\n",
       "      <th>Country</th>\n",
       "      <th>Innings Runs Conceded</th>\n",
       "      <th>Innings Wickets Taken</th>\n",
       "    </tr>\n",
       "    <tr>\n",
       "      <th>Innings Player</th>\n",
       "      <th></th>\n",
       "      <th></th>\n",
       "      <th></th>\n",
       "    </tr>\n",
       "  </thead>\n",
       "  <tbody>\n",
       "    <tr>\n",
       "      <th>A Kumble</th>\n",
       "      <td>India</td>\n",
       "      <td>15246</td>\n",
       "      <td>454</td>\n",
       "    </tr>\n",
       "    <tr>\n",
       "      <th>A Mishra</th>\n",
       "      <td>India</td>\n",
       "      <td>4533</td>\n",
       "      <td>192</td>\n",
       "    </tr>\n",
       "    <tr>\n",
       "      <th>A Nehra</th>\n",
       "      <td>India</td>\n",
       "      <td>14697</td>\n",
       "      <td>465</td>\n",
       "    </tr>\n",
       "    <tr>\n",
       "      <th>A Symonds</th>\n",
       "      <td>Australia</td>\n",
       "      <td>13659</td>\n",
       "      <td>353</td>\n",
       "    </tr>\n",
       "    <tr>\n",
       "      <th>A Zampa</th>\n",
       "      <td>Australia</td>\n",
       "      <td>7862</td>\n",
       "      <td>218</td>\n",
       "    </tr>\n",
       "    <tr>\n",
       "      <th>...</th>\n",
       "      <td>...</td>\n",
       "      <td>...</td>\n",
       "      <td>...</td>\n",
       "    </tr>\n",
       "    <tr>\n",
       "      <th>XJ Doherty</th>\n",
       "      <td>Australia</td>\n",
       "      <td>6672</td>\n",
       "      <td>165</td>\n",
       "    </tr>\n",
       "    <tr>\n",
       "      <th>YK Pathan</th>\n",
       "      <td>India</td>\n",
       "      <td>4095</td>\n",
       "      <td>99</td>\n",
       "    </tr>\n",
       "    <tr>\n",
       "      <th>YS Chahal</th>\n",
       "      <td>India</td>\n",
       "      <td>7053</td>\n",
       "      <td>273</td>\n",
       "    </tr>\n",
       "    <tr>\n",
       "      <th>Yuvraj Singh</th>\n",
       "      <td>India</td>\n",
       "      <td>12467</td>\n",
       "      <td>328</td>\n",
       "    </tr>\n",
       "    <tr>\n",
       "      <th>Z Khan</th>\n",
       "      <td>India</td>\n",
       "      <td>23254</td>\n",
       "      <td>771</td>\n",
       "    </tr>\n",
       "  </tbody>\n",
       "</table>\n",
       "<p>136 rows × 3 columns</p>\n",
       "</div>"
      ],
      "text/plain": [
       "                  Country  Innings Runs Conceded  Innings Wickets Taken\n",
       "Innings Player                                                         \n",
       "A Kumble            India                  15246                    454\n",
       "A Mishra            India                   4533                    192\n",
       "A Nehra             India                  14697                    465\n",
       "A Symonds       Australia                  13659                    353\n",
       "A Zampa         Australia                   7862                    218\n",
       "...                   ...                    ...                    ...\n",
       "XJ Doherty      Australia                   6672                    165\n",
       "YK Pathan           India                   4095                     99\n",
       "YS Chahal           India                   7053                    273\n",
       "Yuvraj Singh        India                  12467                    328\n",
       "Z Khan              India                  23254                    771\n",
       "\n",
       "[136 rows x 3 columns]"
      ]
     },
     "execution_count": 126,
     "metadata": {},
     "output_type": "execute_result"
    }
   ],
   "source": [
    "top_bowlers = grouped_df[grouped_df['Innings Wickets Taken'] > 25]\n",
    "top_bowlers"
   ]
  },
  {
   "cell_type": "code",
   "execution_count": 132,
   "id": "7f823044-9f2f-42f1-89c2-774e93c222c0",
   "metadata": {},
   "outputs": [],
   "source": [
    "# Sampling (30 players from each country)\n",
    "indian_bowlers = top_bowlers[top_bowlers['Country'] == 'India']\n",
    "australian_bowlers = top_bowlers[top_bowlers['Country'] == 'Australia']"
   ]
  },
  {
   "cell_type": "markdown",
   "id": "f509b039-509e-462c-88f1-83685a67e007",
   "metadata": {},
   "source": [
    "### Take a random sample of 30 such indian bowlers and 30 australian bowlers"
   ]
  },
  {
   "cell_type": "code",
   "execution_count": 134,
   "id": "951d0f6e-a82b-4c0b-8f4b-4930275ae5a9",
   "metadata": {},
   "outputs": [],
   "source": [
    "# Group by 'Country' and take a sample of 30 players from each country\n",
    "ind_sample = indian_bowlers.sample(n=30, random_state=42)\n",
    "aus_sample = australian_bowlers.sample(n=30, random_state=42)"
   ]
  },
  {
   "cell_type": "code",
   "execution_count": 137,
   "id": "b719272f-82ab-41ab-aa25-6022d18850f7",
   "metadata": {},
   "outputs": [
    {
     "data": {
      "text/plain": [
       "(30, 3)"
      ]
     },
     "execution_count": 137,
     "metadata": {},
     "output_type": "execute_result"
    }
   ],
   "source": [
    "aus_sample.shape"
   ]
  },
  {
   "cell_type": "code",
   "execution_count": 142,
   "id": "121085c0-8528-44be-8142-b90b6e2ecba7",
   "metadata": {},
   "outputs": [
    {
     "name": "stdout",
     "output_type": "stream",
     "text": [
      "Collecting scipy\n",
      "  Downloading scipy-1.13.1-cp39-cp39-win_amd64.whl (46.2 MB)\n",
      "     ---------------------------------------- 46.2/46.2 MB 1.8 MB/s eta 0:00:00\n",
      "Requirement already satisfied: numpy<2.3,>=1.22.4 in c:\\users\\kartik\\appdata\\local\\programs\\python\\python39\\lib\\site-packages (from scipy) (2.0.2)\n",
      "Installing collected packages: scipy\n",
      "Successfully installed scipy-1.13.1\n",
      "Note: you may need to restart the kernel to use updated packages.\n"
     ]
    }
   ],
   "source": [
    "pip install scipy"
   ]
  },
  {
   "cell_type": "code",
   "execution_count": 146,
   "id": "f825c07e-26cf-4cb2-8253-efb89bb141de",
   "metadata": {},
   "outputs": [],
   "source": [
    "ind_sample['bowling_avg'] = ind_sample['Innings Runs Conceded'] / ind_sample['Innings Wickets Taken']\n",
    "aus_sample['bowling_avg'] = aus_sample['Innings Runs Conceded'] / aus_sample['Innings Wickets Taken']"
   ]
  },
  {
   "cell_type": "markdown",
   "id": "4dc5c660-22ff-4427-bfec-60ca9740c4f7",
   "metadata": {},
   "source": [
    "### Find if the bowling average of these sampled Indians and Australians show a Statistical significance differnce (two-Sampled test)"
   ]
  },
  {
   "cell_type": "code",
   "execution_count": 151,
   "id": "72cd39f1-56b3-49cb-ba8b-1d6149240037",
   "metadata": {},
   "outputs": [],
   "source": [
    "import scipy.stats as stats\n",
    "\n",
    "t_stat, pvalue = stats.ttest_ind(ind_sample['bowling_avg'], aus_sample['bowling_avg'])"
   ]
  },
  {
   "cell_type": "code",
   "execution_count": 152,
   "id": "a9c6c694-b746-47ae-9f1b-df898019a7e6",
   "metadata": {},
   "outputs": [
    {
     "name": "stdout",
     "output_type": "stream",
     "text": [
      "t_stat 3.218281321639844\n",
      "pvalue 0.0021125639989687914\n"
     ]
    }
   ],
   "source": [
    "print('t_stat', t_stat)\n",
    "print('pvalue', pvalue)"
   ]
  },
  {
   "cell_type": "code",
   "execution_count": 157,
   "id": "ee862bef-2b3a-4924-bbf1-51a990833b44",
   "metadata": {},
   "outputs": [
    {
     "name": "stdout",
     "output_type": "stream",
     "text": [
      "Reject the null hypothesis. There is significant difference between the indian bowlers' bowling avg and the australian bowlers' bowling avg\n"
     ]
    }
   ],
   "source": [
    "alpha = 0.05\n",
    "\n",
    "if pvalue < alpha:\n",
    "    print('Reject the null hypothesis. There is significant difference between the indian bowlers\\' bowling avg and the australian bowlers\\' bowling avg')\n",
    "else:\n",
    "    print('Fail to reject the null hypothesis. There is no significant difference between the indian bowlers\\' bowling avg and the australian bowlers\\' bowling avg')"
   ]
  },
  {
   "cell_type": "code",
   "execution_count": 159,
   "id": "b870db30-0a23-485b-abfe-1b708448c26e",
   "metadata": {},
   "outputs": [
    {
     "data": {
      "text/plain": [
       "np.float64(35.06864445698241)"
      ]
     },
     "execution_count": 159,
     "metadata": {},
     "output_type": "execute_result"
    }
   ],
   "source": [
    "ind_sample['bowling_avg'].mean()"
   ]
  },
  {
   "cell_type": "code",
   "execution_count": 160,
   "id": "e58aeeab-6317-4fbb-9bd4-67065d0afbe5",
   "metadata": {},
   "outputs": [
    {
     "data": {
      "text/plain": [
       "np.float64(28.86136389993946)"
      ]
     },
     "execution_count": 160,
     "metadata": {},
     "output_type": "execute_result"
    }
   ],
   "source": [
    "aus_sample['bowling_avg'].mean()"
   ]
  },
  {
   "cell_type": "markdown",
   "id": "8084985c-17de-4d7c-a1cf-984f1c3ed393",
   "metadata": {},
   "source": [
    "### Extend this to include one more country(eg England). Now find if the bowling average of these sampled Indian, Australian and english bowlers show the a statistically signigicant difference(ANOVA)"
   ]
  },
  {
   "cell_type": "code",
   "execution_count": 178,
   "id": "408eb00f-f6b2-4522-9eef-ed906d18f533",
   "metadata": {},
   "outputs": [],
   "source": [
    "req_countries = ['India', 'Australia', 'England']\n",
    "df2 = df_selected[df_selected['Country'].isin(req_countries)]"
   ]
  },
  {
   "cell_type": "code",
   "execution_count": 190,
   "id": "eb870085-a4ba-404b-a4bf-8b2ceabab8a9",
   "metadata": {},
   "outputs": [
    {
     "name": "stderr",
     "output_type": "stream",
     "text": [
      "C:\\Users\\Kartik\\AppData\\Local\\Temp\\ipykernel_23160\\1110631324.py:3: FutureWarning: A value is trying to be set on a copy of a DataFrame or Series through chained assignment using an inplace method.\n",
      "The behavior will change in pandas 3.0. This inplace method will never work because the intermediate object on which we are setting values always behaves as a copy.\n",
      "\n",
      "For example, when doing 'df[col].method(value, inplace=True)', try using 'df.method({col: value}, inplace=True)' or df[col] = df[col].method(value) instead, to perform the operation inplace on the original object.\n",
      "\n",
      "\n",
      "  df2['Innings Runs Conceded'].replace('-', 0, inplace=True)\n",
      "C:\\Users\\Kartik\\AppData\\Local\\Temp\\ipykernel_23160\\1110631324.py:4: FutureWarning: A value is trying to be set on a copy of a DataFrame or Series through chained assignment using an inplace method.\n",
      "The behavior will change in pandas 3.0. This inplace method will never work because the intermediate object on which we are setting values always behaves as a copy.\n",
      "\n",
      "For example, when doing 'df[col].method(value, inplace=True)', try using 'df.method({col: value}, inplace=True)' or df[col] = df[col].method(value) instead, to perform the operation inplace on the original object.\n",
      "\n",
      "\n",
      "  df2['Innings Wickets Taken'].replace('-', 0, inplace=True)\n"
     ]
    }
   ],
   "source": [
    "\n",
    "# Cleansing \n",
    "\n",
    "df2['Innings Runs Conceded'].replace('-', 0, inplace=True)\n",
    "df2['Innings Wickets Taken'].replace('-', 0, inplace=True)\n",
    "\n",
    "# filling na\n",
    "df2 = df2.fillna(0)\n",
    "\n",
    "df2['Innings Runs Conceded'] = df2['Innings Runs Conceded'].astype(int) # typecasting\n",
    "df2['Innings Wickets Taken'] = df2['Innings Wickets Taken'].astype(int)\n",
    "\n",
    "\n",
    "# grouping by player name\n",
    "grouped_df2 = df2.groupby('Innings Player').agg({\n",
    "    'Country': 'first',  # Retain the first occurrence of 'Country'\n",
    "    'Innings Runs Conceded': 'sum',\n",
    "    'Innings Wickets Taken': 'sum'\n",
    "})\n",
    "\n",
    "# filtering the top bowlers (wickets > 25)\n",
    "top_bowlers = grouped_df2[grouped_df2['Innings Wickets Taken'] > 25]\n",
    "top_bowlers\n",
    "\n",
    "# sampling for english bowlers\n",
    "english_bowlers = top_bowlers[top_bowlers['Country'] == 'England']\n",
    "eng_sample = english_bowlers.sample(n=30, random_state=42)\n",
    "\n",
    "# calculating bowling_avg\n",
    "eng_sample['bowling_avg'] = eng_sample['Innings Runs Conceded'] / eng_sample['Innings Wickets Taken']"
   ]
  },
  {
   "cell_type": "code",
   "execution_count": 191,
   "id": "c9feb0ec-83b8-4cfb-ba0a-bbd8d9e2f79b",
   "metadata": {
    "scrolled": true
   },
   "outputs": [
    {
     "data": {
      "text/html": [
       "<div>\n",
       "<style scoped>\n",
       "    .dataframe tbody tr th:only-of-type {\n",
       "        vertical-align: middle;\n",
       "    }\n",
       "\n",
       "    .dataframe tbody tr th {\n",
       "        vertical-align: top;\n",
       "    }\n",
       "\n",
       "    .dataframe thead th {\n",
       "        text-align: right;\n",
       "    }\n",
       "</style>\n",
       "<table border=\"1\" class=\"dataframe\">\n",
       "  <thead>\n",
       "    <tr style=\"text-align: right;\">\n",
       "      <th></th>\n",
       "      <th>Country</th>\n",
       "      <th>Innings Runs Conceded</th>\n",
       "      <th>Innings Wickets Taken</th>\n",
       "      <th>bowling_avg</th>\n",
       "    </tr>\n",
       "    <tr>\n",
       "      <th>Innings Player</th>\n",
       "      <th></th>\n",
       "      <th></th>\n",
       "      <th></th>\n",
       "      <th></th>\n",
       "    </tr>\n",
       "  </thead>\n",
       "  <tbody>\n",
       "    <tr>\n",
       "      <th>AF Giles</th>\n",
       "      <td>England</td>\n",
       "      <td>5577</td>\n",
       "      <td>149</td>\n",
       "      <td>37.429530</td>\n",
       "    </tr>\n",
       "    <tr>\n",
       "      <th>JE Root</th>\n",
       "      <td>England</td>\n",
       "      <td>4335</td>\n",
       "      <td>72</td>\n",
       "      <td>60.208333</td>\n",
       "    </tr>\n",
       "    <tr>\n",
       "      <th>BA Stokes</th>\n",
       "      <td>England</td>\n",
       "      <td>8760</td>\n",
       "      <td>210</td>\n",
       "      <td>41.714286</td>\n",
       "    </tr>\n",
       "    <tr>\n",
       "      <th>A Flintoff</th>\n",
       "      <td>England</td>\n",
       "      <td>11408</td>\n",
       "      <td>490</td>\n",
       "      <td>23.281633</td>\n",
       "    </tr>\n",
       "    <tr>\n",
       "      <th>MA Ealham</th>\n",
       "      <td>England</td>\n",
       "      <td>2503</td>\n",
       "      <td>69</td>\n",
       "      <td>36.275362</td>\n",
       "    </tr>\n",
       "    <tr>\n",
       "      <th>MH Yardy</th>\n",
       "      <td>England</td>\n",
       "      <td>3225</td>\n",
       "      <td>63</td>\n",
       "      <td>51.190476</td>\n",
       "    </tr>\n",
       "    <tr>\n",
       "      <th>RL Johnson</th>\n",
       "      <td>England</td>\n",
       "      <td>717</td>\n",
       "      <td>33</td>\n",
       "      <td>21.727273</td>\n",
       "    </tr>\n",
       "    <tr>\n",
       "      <th>PAJ DeFreitas</th>\n",
       "      <td>England</td>\n",
       "      <td>3775</td>\n",
       "      <td>115</td>\n",
       "      <td>32.826087</td>\n",
       "    </tr>\n",
       "    <tr>\n",
       "      <th>MP Vaughan</th>\n",
       "      <td>England</td>\n",
       "      <td>1947</td>\n",
       "      <td>48</td>\n",
       "      <td>40.562500</td>\n",
       "    </tr>\n",
       "    <tr>\n",
       "      <th>HF Gurney</th>\n",
       "      <td>England</td>\n",
       "      <td>1296</td>\n",
       "      <td>33</td>\n",
       "      <td>39.272727</td>\n",
       "    </tr>\n",
       "    <tr>\n",
       "      <th>SCJ Broad</th>\n",
       "      <td>England</td>\n",
       "      <td>16092</td>\n",
       "      <td>534</td>\n",
       "      <td>30.134831</td>\n",
       "    </tr>\n",
       "    <tr>\n",
       "      <th>SR Patel</th>\n",
       "      <td>England</td>\n",
       "      <td>3273</td>\n",
       "      <td>72</td>\n",
       "      <td>45.458333</td>\n",
       "    </tr>\n",
       "    <tr>\n",
       "      <th>DG Cork</th>\n",
       "      <td>England</td>\n",
       "      <td>1962</td>\n",
       "      <td>53</td>\n",
       "      <td>37.018868</td>\n",
       "    </tr>\n",
       "    <tr>\n",
       "      <th>CC Lewis</th>\n",
       "      <td>England</td>\n",
       "      <td>1942</td>\n",
       "      <td>66</td>\n",
       "      <td>29.424242</td>\n",
       "    </tr>\n",
       "    <tr>\n",
       "      <th>RC Irani</th>\n",
       "      <td>England</td>\n",
       "      <td>2475</td>\n",
       "      <td>64</td>\n",
       "      <td>38.671875</td>\n",
       "    </tr>\n",
       "    <tr>\n",
       "      <th>JC Tredwell</th>\n",
       "      <td>England</td>\n",
       "      <td>4998</td>\n",
       "      <td>180</td>\n",
       "      <td>27.766667</td>\n",
       "    </tr>\n",
       "    <tr>\n",
       "      <th>AU Rashid</th>\n",
       "      <td>England</td>\n",
       "      <td>13794</td>\n",
       "      <td>438</td>\n",
       "      <td>31.493151</td>\n",
       "    </tr>\n",
       "    <tr>\n",
       "      <th>AG Wharf</th>\n",
       "      <td>England</td>\n",
       "      <td>1284</td>\n",
       "      <td>54</td>\n",
       "      <td>23.777778</td>\n",
       "    </tr>\n",
       "    <tr>\n",
       "      <th>JE Emburey</th>\n",
       "      <td>England</td>\n",
       "      <td>2346</td>\n",
       "      <td>76</td>\n",
       "      <td>30.868421</td>\n",
       "    </tr>\n",
       "    <tr>\n",
       "      <th>EE Hemmings</th>\n",
       "      <td>England</td>\n",
       "      <td>1294</td>\n",
       "      <td>37</td>\n",
       "      <td>34.972973</td>\n",
       "    </tr>\n",
       "    <tr>\n",
       "      <th>IT Botham</th>\n",
       "      <td>England</td>\n",
       "      <td>4139</td>\n",
       "      <td>145</td>\n",
       "      <td>28.544828</td>\n",
       "    </tr>\n",
       "    <tr>\n",
       "      <th>JWM Dalrymple</th>\n",
       "      <td>England</td>\n",
       "      <td>1998</td>\n",
       "      <td>42</td>\n",
       "      <td>47.571429</td>\n",
       "    </tr>\n",
       "    <tr>\n",
       "      <th>JW Dernbach</th>\n",
       "      <td>England</td>\n",
       "      <td>3924</td>\n",
       "      <td>93</td>\n",
       "      <td>42.193548</td>\n",
       "    </tr>\n",
       "    <tr>\n",
       "      <th>CT Tremlett</th>\n",
       "      <td>England</td>\n",
       "      <td>2115</td>\n",
       "      <td>45</td>\n",
       "      <td>47.000000</td>\n",
       "    </tr>\n",
       "    <tr>\n",
       "      <th>RK Illingworth</th>\n",
       "      <td>England</td>\n",
       "      <td>1059</td>\n",
       "      <td>30</td>\n",
       "      <td>35.300000</td>\n",
       "    </tr>\n",
       "    <tr>\n",
       "      <th>PD Collingwood</th>\n",
       "      <td>England</td>\n",
       "      <td>12882</td>\n",
       "      <td>333</td>\n",
       "      <td>38.684685</td>\n",
       "    </tr>\n",
       "    <tr>\n",
       "      <th>J Lewis</th>\n",
       "      <td>England</td>\n",
       "      <td>1500</td>\n",
       "      <td>54</td>\n",
       "      <td>27.777778</td>\n",
       "    </tr>\n",
       "    <tr>\n",
       "      <th>AR Caddick</th>\n",
       "      <td>England</td>\n",
       "      <td>3943</td>\n",
       "      <td>133</td>\n",
       "      <td>29.646617</td>\n",
       "    </tr>\n",
       "    <tr>\n",
       "      <th>RJ Sidebottom</th>\n",
       "      <td>England</td>\n",
       "      <td>3117</td>\n",
       "      <td>87</td>\n",
       "      <td>35.827586</td>\n",
       "    </tr>\n",
       "    <tr>\n",
       "      <th>M Hendrick</th>\n",
       "      <td>England</td>\n",
       "      <td>681</td>\n",
       "      <td>35</td>\n",
       "      <td>19.457143</td>\n",
       "    </tr>\n",
       "  </tbody>\n",
       "</table>\n",
       "</div>"
      ],
      "text/plain": [
       "                Country  Innings Runs Conceded  Innings Wickets Taken  \\\n",
       "Innings Player                                                          \n",
       "AF Giles        England                   5577                    149   \n",
       "JE Root         England                   4335                     72   \n",
       "BA Stokes       England                   8760                    210   \n",
       "A Flintoff      England                  11408                    490   \n",
       "MA Ealham       England                   2503                     69   \n",
       "MH Yardy        England                   3225                     63   \n",
       "RL Johnson      England                    717                     33   \n",
       "PAJ DeFreitas   England                   3775                    115   \n",
       "MP Vaughan      England                   1947                     48   \n",
       "HF Gurney       England                   1296                     33   \n",
       "SCJ Broad       England                  16092                    534   \n",
       "SR Patel        England                   3273                     72   \n",
       "DG Cork         England                   1962                     53   \n",
       "CC Lewis        England                   1942                     66   \n",
       "RC Irani        England                   2475                     64   \n",
       "JC Tredwell     England                   4998                    180   \n",
       "AU Rashid       England                  13794                    438   \n",
       "AG Wharf        England                   1284                     54   \n",
       "JE Emburey      England                   2346                     76   \n",
       "EE Hemmings     England                   1294                     37   \n",
       "IT Botham       England                   4139                    145   \n",
       "JWM Dalrymple   England                   1998                     42   \n",
       "JW Dernbach     England                   3924                     93   \n",
       "CT Tremlett     England                   2115                     45   \n",
       "RK Illingworth  England                   1059                     30   \n",
       "PD Collingwood  England                  12882                    333   \n",
       "J Lewis         England                   1500                     54   \n",
       "AR Caddick      England                   3943                    133   \n",
       "RJ Sidebottom   England                   3117                     87   \n",
       "M Hendrick      England                    681                     35   \n",
       "\n",
       "                bowling_avg  \n",
       "Innings Player               \n",
       "AF Giles          37.429530  \n",
       "JE Root           60.208333  \n",
       "BA Stokes         41.714286  \n",
       "A Flintoff        23.281633  \n",
       "MA Ealham         36.275362  \n",
       "MH Yardy          51.190476  \n",
       "RL Johnson        21.727273  \n",
       "PAJ DeFreitas     32.826087  \n",
       "MP Vaughan        40.562500  \n",
       "HF Gurney         39.272727  \n",
       "SCJ Broad         30.134831  \n",
       "SR Patel          45.458333  \n",
       "DG Cork           37.018868  \n",
       "CC Lewis          29.424242  \n",
       "RC Irani          38.671875  \n",
       "JC Tredwell       27.766667  \n",
       "AU Rashid         31.493151  \n",
       "AG Wharf          23.777778  \n",
       "JE Emburey        30.868421  \n",
       "EE Hemmings       34.972973  \n",
       "IT Botham         28.544828  \n",
       "JWM Dalrymple     47.571429  \n",
       "JW Dernbach       42.193548  \n",
       "CT Tremlett       47.000000  \n",
       "RK Illingworth    35.300000  \n",
       "PD Collingwood    38.684685  \n",
       "J Lewis           27.777778  \n",
       "AR Caddick        29.646617  \n",
       "RJ Sidebottom     35.827586  \n",
       "M Hendrick        19.457143  "
      ]
     },
     "execution_count": 191,
     "metadata": {},
     "output_type": "execute_result"
    }
   ],
   "source": [
    "eng_sample"
   ]
  },
  {
   "cell_type": "code",
   "execution_count": 192,
   "id": "ce6d367f-9ee9-490e-8891-427a61d3e7a4",
   "metadata": {},
   "outputs": [
    {
     "name": "stdout",
     "output_type": "stream",
     "text": [
      "f_stat 6.39403509593666\n",
      "pvalue 0.0025654724257179904\n"
     ]
    }
   ],
   "source": [
    "# Now we have ind_sample, aus_sample and eng_sample \n",
    "# so we are ready for the ANOVA test\n",
    "\n",
    "f_stat, pvalue = stats.f_oneway(ind_sample['bowling_avg'], aus_sample['bowling_avg'], eng_sample['bowling_avg'])\n",
    "print('f_stat', f_stat)\n",
    "print('pvalue', pvalue)"
   ]
  },
  {
   "cell_type": "code",
   "execution_count": 194,
   "id": "f16f5484-0cfb-4805-b0ed-54f2506ecabc",
   "metadata": {},
   "outputs": [
    {
     "name": "stdout",
     "output_type": "stream",
     "text": [
      "Reject the null hypothesis. There is significant difference between the indian bowlers' bowling avg, the australian bowlers' bowling avg and the english bowlers' bowling avg\n"
     ]
    }
   ],
   "source": [
    "alpha = 0.05\n",
    "\n",
    "if pvalue < alpha:\n",
    "    print('Reject the null hypothesis. There is significant difference between the indian bowlers\\' bowling avg, the australian bowlers\\' bowling avg and the english bowlers\\' bowling avg')\n",
    "else:\n",
    "    print('Fail to reject the null hypothesis. There is no significant difference between the indian bowlers\\' bowling avg, the australian bowlers\\' bowling avg and the english bowlers\\' bowling avg')"
   ]
  },
  {
   "cell_type": "code",
   "execution_count": 196,
   "id": "704c7f22-2650-4ebe-8d7f-32c0aa91e2ab",
   "metadata": {},
   "outputs": [
    {
     "data": {
      "text/plain": [
       "np.float64(35.06864445698241)"
      ]
     },
     "execution_count": 196,
     "metadata": {},
     "output_type": "execute_result"
    }
   ],
   "source": [
    "ind_sample['bowling_avg'].mean()"
   ]
  },
  {
   "cell_type": "code",
   "execution_count": 197,
   "id": "96052e95-9374-4730-8256-ce82e80cca7d",
   "metadata": {},
   "outputs": [
    {
     "data": {
      "text/plain": [
       "np.float64(28.86136389993946)"
      ]
     },
     "execution_count": 197,
     "metadata": {},
     "output_type": "execute_result"
    }
   ],
   "source": [
    "aus_sample['bowling_avg'].mean()"
   ]
  },
  {
   "cell_type": "code",
   "execution_count": 198,
   "id": "24a35412-3fdf-4005-8c19-77fc66c82e8e",
   "metadata": {},
   "outputs": [
    {
     "data": {
      "text/plain": [
       "np.float64(35.53596530927358)"
      ]
     },
     "execution_count": 198,
     "metadata": {},
     "output_type": "execute_result"
    }
   ],
   "source": [
    "eng_sample['bowling_avg'].mean()"
   ]
  }
 ],
 "metadata": {
  "kernelspec": {
   "display_name": "Python 3 (ipykernel)",
   "language": "python",
   "name": "python3"
  },
  "language_info": {
   "codemirror_mode": {
    "name": "ipython",
    "version": 3
   },
   "file_extension": ".py",
   "mimetype": "text/x-python",
   "name": "python",
   "nbconvert_exporter": "python",
   "pygments_lexer": "ipython3",
   "version": "3.9.13"
  }
 },
 "nbformat": 4,
 "nbformat_minor": 5
}
